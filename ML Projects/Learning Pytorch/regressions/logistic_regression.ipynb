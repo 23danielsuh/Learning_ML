{
 "cells": [
  {
   "cell_type": "code",
   "execution_count": 1,
   "metadata": {},
   "outputs": [],
   "source": [
    "import torch\n",
    "import torch.nn as nn\n",
    "import torchvision\n",
    "import torchvision.transforms as transforms"
   ]
  },
  {
   "cell_type": "code",
   "execution_count": 11,
   "metadata": {},
   "outputs": [
    {
     "ename": "AttributeError",
     "evalue": "'MNIST' object has no attribute 'to'",
     "output_type": "error",
     "traceback": [
      "\u001b[1;31m---------------------------------------------------------------------------\u001b[0m",
      "\u001b[1;31mAttributeError\u001b[0m                            Traceback (most recent call last)",
      "\u001b[1;32mc:\\Users\\23den\\Programming\\ML Projects\\Learning Pytorch\\regressions\\logistic_regression.ipynb Cell 2'\u001b[0m in \u001b[0;36m<cell line: 21>\u001b[1;34m()\u001b[0m\n\u001b[0;32m     <a href='vscode-notebook-cell:/c%3A/Users/23den/Programming/ML%20Projects/Learning%20Pytorch/regressions/logistic_regression.ipynb#ch0000001?line=15'>16</a>\u001b[0m test_dataset \u001b[39m=\u001b[39m torchvision\u001b[39m.\u001b[39mdatasets\u001b[39m.\u001b[39mMNIST(root\u001b[39m=\u001b[39m\u001b[39m'\u001b[39m\u001b[39m../../data\u001b[39m\u001b[39m'\u001b[39m, \n\u001b[0;32m     <a href='vscode-notebook-cell:/c%3A/Users/23den/Programming/ML%20Projects/Learning%20Pytorch/regressions/logistic_regression.ipynb#ch0000001?line=16'>17</a>\u001b[0m                                           train\u001b[39m=\u001b[39m\u001b[39mFalse\u001b[39;00m, \n\u001b[0;32m     <a href='vscode-notebook-cell:/c%3A/Users/23den/Programming/ML%20Projects/Learning%20Pytorch/regressions/logistic_regression.ipynb#ch0000001?line=17'>18</a>\u001b[0m                                           transform\u001b[39m=\u001b[39mtransforms\u001b[39m.\u001b[39mToTensor())\n\u001b[0;32m     <a href='vscode-notebook-cell:/c%3A/Users/23den/Programming/ML%20Projects/Learning%20Pytorch/regressions/logistic_regression.ipynb#ch0000001?line=19'>20</a>\u001b[0m \u001b[39m# Data loader (input pipeline)\u001b[39;00m\n\u001b[1;32m---> <a href='vscode-notebook-cell:/c%3A/Users/23den/Programming/ML%20Projects/Learning%20Pytorch/regressions/logistic_regression.ipynb#ch0000001?line=20'>21</a>\u001b[0m train_loader \u001b[39m=\u001b[39m torch\u001b[39m.\u001b[39mutils\u001b[39m.\u001b[39mdata\u001b[39m.\u001b[39mDataLoader(dataset\u001b[39m=\u001b[39mtrain_dataset\u001b[39m.\u001b[39;49mto(device),\n\u001b[0;32m     <a href='vscode-notebook-cell:/c%3A/Users/23den/Programming/ML%20Projects/Learning%20Pytorch/regressions/logistic_regression.ipynb#ch0000001?line=21'>22</a>\u001b[0m                                            batch_size\u001b[39m=\u001b[39mbatch_size, \n\u001b[0;32m     <a href='vscode-notebook-cell:/c%3A/Users/23den/Programming/ML%20Projects/Learning%20Pytorch/regressions/logistic_regression.ipynb#ch0000001?line=22'>23</a>\u001b[0m                                            shuffle\u001b[39m=\u001b[39m\u001b[39mTrue\u001b[39;00m)\n\u001b[0;32m     <a href='vscode-notebook-cell:/c%3A/Users/23den/Programming/ML%20Projects/Learning%20Pytorch/regressions/logistic_regression.ipynb#ch0000001?line=24'>25</a>\u001b[0m test_loader \u001b[39m=\u001b[39m torch\u001b[39m.\u001b[39mutils\u001b[39m.\u001b[39mdata\u001b[39m.\u001b[39mDataLoader(dataset\u001b[39m=\u001b[39mtest_dataset, \n\u001b[0;32m     <a href='vscode-notebook-cell:/c%3A/Users/23den/Programming/ML%20Projects/Learning%20Pytorch/regressions/logistic_regression.ipynb#ch0000001?line=25'>26</a>\u001b[0m                                           batch_size\u001b[39m=\u001b[39mbatch_size, \n\u001b[0;32m     <a href='vscode-notebook-cell:/c%3A/Users/23den/Programming/ML%20Projects/Learning%20Pytorch/regressions/logistic_regression.ipynb#ch0000001?line=26'>27</a>\u001b[0m                                           shuffle\u001b[39m=\u001b[39m\u001b[39mFalse\u001b[39;00m)\n",
      "\u001b[1;31mAttributeError\u001b[0m: 'MNIST' object has no attribute 'to'"
     ]
    }
   ],
   "source": [
    "# Hyper-parameters \n",
    "input_size = 28 * 28    # 784\n",
    "num_classes = 10\n",
    "num_epochs = 5\n",
    "batch_size = 100\n",
    "learning_rate = 0.001\n",
    "\n",
    "device = torch.device(\"cuda\" if torch.cuda.is_available() else \"cpu\")\n",
    "\n",
    "# MNIST dataset (images and labels)\n",
    "train_dataset = torchvision.datasets.MNIST(root='../../data', \n",
    "                                           train=True, \n",
    "                                           transform=transforms.ToTensor(),\n",
    "                                           download=True)\n",
    "\n",
    "test_dataset = torchvision.datasets.MNIST(root='../../data', \n",
    "                                          train=False, \n",
    "                                          transform=transforms.ToTensor())\n",
    "\n",
    "# Data loader (input pipeline)\n",
    "train_loader = torch.utils.data.DataLoader(dataset=train_dataset,\n",
    "                                           batch_size=batch_size, \n",
    "                                           shuffle=True)\n",
    "\n",
    "test_loader = torch.utils.data.DataLoader(dataset=test_dataset, \n",
    "                                          batch_size=batch_size, \n",
    "                                          shuffle=False)\n",
    "\n"
   ]
  },
  {
   "cell_type": "code",
   "execution_count": 3,
   "metadata": {},
   "outputs": [],
   "source": [
    "# Logistic regression model\n",
    "model = nn.Linear(input_size, num_classes)\n",
    "\n",
    "# Loss and optimizer\n",
    "# nn.CrossEntropyLoss() computes softmax internally\n",
    "criterion = nn.CrossEntropyLoss()  \n",
    "optimizer = torch.optim.SGD(model.parameters(), lr=learning_rate)  "
   ]
  },
  {
   "cell_type": "code",
   "execution_count": 7,
   "metadata": {},
   "outputs": [
    {
     "name": "stdout",
     "output_type": "stream",
     "text": [
      "Epoch [1/5], Step [100/600], Loss: 1.8360\n",
      "Epoch [1/5], Step [200/600], Loss: 1.8593\n",
      "Epoch [1/5], Step [300/600], Loss: 1.6805\n",
      "Epoch [1/5], Step [400/600], Loss: 1.6666\n",
      "Epoch [1/5], Step [500/600], Loss: 1.5889\n",
      "Epoch [1/5], Step [600/600], Loss: 1.5348\n",
      "Epoch [2/5], Step [100/600], Loss: 1.5093\n",
      "Epoch [2/5], Step [200/600], Loss: 1.4876\n",
      "Epoch [2/5], Step [300/600], Loss: 1.4488\n",
      "Epoch [2/5], Step [400/600], Loss: 1.4026\n",
      "Epoch [2/5], Step [500/600], Loss: 1.3902\n",
      "Epoch [2/5], Step [600/600], Loss: 1.3865\n",
      "Epoch [3/5], Step [100/600], Loss: 1.2609\n",
      "Epoch [3/5], Step [200/600], Loss: 1.1776\n",
      "Epoch [3/5], Step [300/600], Loss: 1.2352\n",
      "Epoch [3/5], Step [400/600], Loss: 1.1255\n",
      "Epoch [3/5], Step [500/600], Loss: 1.1809\n",
      "Epoch [3/5], Step [600/600], Loss: 1.0989\n",
      "Epoch [4/5], Step [100/600], Loss: 1.0464\n",
      "Epoch [4/5], Step [200/600], Loss: 1.1891\n",
      "Epoch [4/5], Step [300/600], Loss: 1.0883\n",
      "Epoch [4/5], Step [400/600], Loss: 1.0976\n",
      "Epoch [4/5], Step [500/600], Loss: 1.0191\n",
      "Epoch [4/5], Step [600/600], Loss: 0.9526\n",
      "Epoch [5/5], Step [100/600], Loss: 0.9957\n",
      "Epoch [5/5], Step [200/600], Loss: 1.1346\n",
      "Epoch [5/5], Step [300/600], Loss: 1.0210\n",
      "Epoch [5/5], Step [400/600], Loss: 0.9908\n",
      "Epoch [5/5], Step [500/600], Loss: 0.8305\n",
      "Epoch [5/5], Step [600/600], Loss: 0.8885\n"
     ]
    }
   ],
   "source": [
    "# Train the model\n",
    "total_step = len(train_loader)\n",
    "for epoch in range(num_epochs):\n",
    "    for i, (images, labels) in enumerate(train_loader):\n",
    "        # Reshape images to (batch_size, input_size)\n",
    "        images = images.reshape(-1, input_size)\n",
    "        \n",
    "        # Forward pass\n",
    "        outputs = model(images)\n",
    "        loss = criterion(outputs, labels)\n",
    "        \n",
    "        # Backward and optimize\n",
    "        optimizer.zero_grad()\n",
    "        loss.backward()\n",
    "        optimizer.step()\n",
    "        \n",
    "        if (i+1) % 100 == 0:\n",
    "            print ('Epoch [{}/{}], Step [{}/{}], Loss: {:.4f}' \n",
    "                   .format(epoch+1, num_epochs, i+1, total_step, loss.item()))"
   ]
  },
  {
   "cell_type": "code",
   "execution_count": 8,
   "metadata": {},
   "outputs": [
    {
     "name": "stdout",
     "output_type": "stream",
     "text": [
      "Accuracy of the model on the 10000 test images: 83.58000183105469 %\n"
     ]
    }
   ],
   "source": [
    "# Test the model\n",
    "# In test phase, we don't need to compute gradients (for memory efficiency)\n",
    "with torch.no_grad():\n",
    "    correct = 0\n",
    "    total = 0\n",
    "    for images, labels in test_loader:\n",
    "        images = images.reshape(-1, input_size)\n",
    "        outputs = model(images)\n",
    "        _, predicted = torch.max(outputs.data, 1)\n",
    "        total += labels.size(0)\n",
    "        correct += (predicted == labels).sum()\n",
    "\n",
    "    print('Accuracy of the model on the 10000 test images: {} %'.format(100 * correct / total))"
   ]
  }
 ],
 "metadata": {
  "interpreter": {
   "hash": "80d51ef78edf10dafe6390381350fe95ff353a7dfba1a29380139ac198de4789"
  },
  "kernelspec": {
   "display_name": "Python 3.10.4 64-bit",
   "language": "python",
   "name": "python3"
  },
  "language_info": {
   "codemirror_mode": {
    "name": "ipython",
    "version": 3
   },
   "file_extension": ".py",
   "mimetype": "text/x-python",
   "name": "python",
   "nbconvert_exporter": "python",
   "pygments_lexer": "ipython3",
   "version": "3.10.4"
  },
  "orig_nbformat": 4
 },
 "nbformat": 4,
 "nbformat_minor": 2
}
